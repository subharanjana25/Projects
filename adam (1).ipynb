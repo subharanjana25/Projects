{
 "cells": [
  {
   "cell_type": "code",
   "execution_count": 1,
   "id": "2b99fe2d",
   "metadata": {},
   "outputs": [
    {
     "name": "stdout",
     "output_type": "stream",
     "text": [
      "Requirement already satisfied: opencv-python in c:\\users\\dhivy\\anaconda3\\lib\\site-packages (4.8.1.78)\n",
      "Requirement already satisfied: numpy>=1.17.0 in c:\\users\\dhivy\\anaconda3\\lib\\site-packages (from opencv-python) (1.22.1)\n",
      "Note: you may need to restart the kernel to use updated packages.\n"
     ]
    }
   ],
   "source": [
    "pip install opencv-python"
   ]
  },
  {
   "cell_type": "code",
   "execution_count": 2,
   "id": "2d4f79bf",
   "metadata": {},
   "outputs": [
    {
     "name": "stdout",
     "output_type": "stream",
     "text": [
      "Requirement already satisfied: numpy==1.22.1 in c:\\users\\dhivy\\anaconda3\\lib\\site-packages (1.22.1)\n"
     ]
    }
   ],
   "source": [
    "!pip install numpy==1.22.1"
   ]
  },
  {
   "cell_type": "code",
   "execution_count": 3,
   "id": "ba776a1e",
   "metadata": {},
   "outputs": [
    {
     "name": "stdout",
     "output_type": "stream",
     "text": [
      "Requirement already satisfied: tensorflow in c:\\users\\dhivy\\anaconda3\\lib\\site-packages (2.9.0)\n",
      "Requirement already satisfied: termcolor>=1.1.0 in c:\\users\\dhivy\\anaconda3\\lib\\site-packages (from tensorflow) (2.3.0)\n",
      "Requirement already satisfied: wrapt>=1.11.0 in c:\\users\\dhivy\\anaconda3\\lib\\site-packages (from tensorflow) (1.12.1)\n",
      "Requirement already satisfied: keras<2.10.0,>=2.9.0rc0 in c:\\users\\dhivy\\anaconda3\\lib\\site-packages (from tensorflow) (2.9.0)\n",
      "Requirement already satisfied: gast<=0.4.0,>=0.2.1 in c:\\users\\dhivy\\anaconda3\\lib\\site-packages (from tensorflow) (0.3.3)\n",
      "Requirement already satisfied: keras-preprocessing>=1.1.1 in c:\\users\\dhivy\\anaconda3\\lib\\site-packages (from tensorflow) (1.1.2)\n",
      "Requirement already satisfied: numpy>=1.20 in c:\\users\\dhivy\\anaconda3\\lib\\site-packages (from tensorflow) (1.22.1)\n",
      "Requirement already satisfied: six>=1.12.0 in c:\\users\\dhivy\\anaconda3\\lib\\site-packages (from tensorflow) (1.15.0)\n",
      "Requirement already satisfied: absl-py>=1.0.0 in c:\\users\\dhivy\\anaconda3\\lib\\site-packages (from tensorflow) (1.4.0)\n",
      "Requirement already satisfied: grpcio<2.0,>=1.24.3 in c:\\users\\dhivy\\anaconda3\\lib\\site-packages (from tensorflow) (1.58.0)\n",
      "Requirement already satisfied: tensorboard<2.10,>=2.9 in c:\\users\\dhivy\\anaconda3\\lib\\site-packages (from tensorflow) (2.9.1)\n",
      "Requirement already satisfied: packaging in c:\\users\\dhivy\\anaconda3\\lib\\site-packages (from tensorflow) (20.9)\n",
      "Requirement already satisfied: google-pasta>=0.1.1 in c:\\users\\dhivy\\anaconda3\\lib\\site-packages (from tensorflow) (0.2.0)\n",
      "Requirement already satisfied: tensorflow-estimator<2.10.0,>=2.9.0rc0 in c:\\users\\dhivy\\anaconda3\\lib\\site-packages (from tensorflow) (2.9.0)\n",
      "Requirement already satisfied: typing-extensions>=3.6.6 in c:\\users\\dhivy\\anaconda3\\lib\\site-packages (from tensorflow) (3.7.4.3)\n",
      "Requirement already satisfied: tensorflow-io-gcs-filesystem>=0.23.1 in c:\\users\\dhivy\\anaconda3\\lib\\site-packages (from tensorflow) (0.31.0)\n",
      "Requirement already satisfied: libclang>=13.0.0 in c:\\users\\dhivy\\anaconda3\\lib\\site-packages (from tensorflow) (16.0.6)\n",
      "Requirement already satisfied: h5py>=2.9.0 in c:\\users\\dhivy\\anaconda3\\lib\\site-packages (from tensorflow) (2.10.0)\n",
      "Requirement already satisfied: opt-einsum>=2.3.2 in c:\\users\\dhivy\\anaconda3\\lib\\site-packages (from tensorflow) (3.3.0)\n",
      "Requirement already satisfied: flatbuffers<2,>=1.12 in c:\\users\\dhivy\\anaconda3\\lib\\site-packages (from tensorflow) (1.12)\n",
      "Requirement already satisfied: setuptools in c:\\users\\dhivy\\anaconda3\\lib\\site-packages (from tensorflow) (52.0.0.post20210125)\n",
      "Requirement already satisfied: protobuf>=3.9.2 in c:\\users\\dhivy\\anaconda3\\lib\\site-packages (from tensorflow) (3.19.6)\n",
      "Requirement already satisfied: astunparse>=1.6.0 in c:\\users\\dhivy\\anaconda3\\lib\\site-packages (from tensorflow) (1.6.3)\n",
      "Requirement already satisfied: wheel<1.0,>=0.23.0 in c:\\users\\dhivy\\anaconda3\\lib\\site-packages (from astunparse>=1.6.0->tensorflow) (0.36.2)\n",
      "Requirement already satisfied: markdown>=2.6.8 in c:\\users\\dhivy\\anaconda3\\lib\\site-packages (from tensorboard<2.10,>=2.9->tensorflow) (3.4.4)\n",
      "Requirement already satisfied: werkzeug>=1.0.1 in c:\\users\\dhivy\\anaconda3\\lib\\site-packages (from tensorboard<2.10,>=2.9->tensorflow) (1.0.1)\n",
      "Requirement already satisfied: google-auth<3,>=1.6.3 in c:\\users\\dhivy\\anaconda3\\lib\\site-packages (from tensorboard<2.10,>=2.9->tensorflow) (2.23.0)\n",
      "Requirement already satisfied: google-auth-oauthlib<0.5,>=0.4.1 in c:\\users\\dhivy\\anaconda3\\lib\\site-packages (from tensorboard<2.10,>=2.9->tensorflow) (0.4.6)\n",
      "Requirement already satisfied: tensorboard-data-server<0.7.0,>=0.6.0 in c:\\users\\dhivy\\anaconda3\\lib\\site-packages (from tensorboard<2.10,>=2.9->tensorflow) (0.6.1)\n",
      "Requirement already satisfied: requests<3,>=2.21.0 in c:\\users\\dhivy\\anaconda3\\lib\\site-packages (from tensorboard<2.10,>=2.9->tensorflow) (2.25.1)\n",
      "Requirement already satisfied: tensorboard-plugin-wit>=1.6.0 in c:\\users\\dhivy\\anaconda3\\lib\\site-packages (from tensorboard<2.10,>=2.9->tensorflow) (1.8.1)\n",
      "Requirement already satisfied: urllib3<2.0 in c:\\users\\dhivy\\anaconda3\\lib\\site-packages (from google-auth<3,>=1.6.3->tensorboard<2.10,>=2.9->tensorflow) (1.26.4)\n",
      "Requirement already satisfied: pyasn1-modules>=0.2.1 in c:\\users\\dhivy\\anaconda3\\lib\\site-packages (from google-auth<3,>=1.6.3->tensorboard<2.10,>=2.9->tensorflow) (0.3.0)\n",
      "Requirement already satisfied: cachetools<6.0,>=2.0.0 in c:\\users\\dhivy\\anaconda3\\lib\\site-packages (from google-auth<3,>=1.6.3->tensorboard<2.10,>=2.9->tensorflow) (4.2.4)\n",
      "Requirement already satisfied: rsa<5,>=3.1.4 in c:\\users\\dhivy\\anaconda3\\lib\\site-packages (from google-auth<3,>=1.6.3->tensorboard<2.10,>=2.9->tensorflow) (4.9)\n",
      "Requirement already satisfied: requests-oauthlib>=0.7.0 in c:\\users\\dhivy\\anaconda3\\lib\\site-packages (from google-auth-oauthlib<0.5,>=0.4.1->tensorboard<2.10,>=2.9->tensorflow) (1.3.1)\n",
      "Requirement already satisfied: importlib-metadata>=4.4 in c:\\users\\dhivy\\anaconda3\\lib\\site-packages (from markdown>=2.6.8->tensorboard<2.10,>=2.9->tensorflow) (6.8.0)\n",
      "Requirement already satisfied: zipp>=0.5 in c:\\users\\dhivy\\anaconda3\\lib\\site-packages (from importlib-metadata>=4.4->markdown>=2.6.8->tensorboard<2.10,>=2.9->tensorflow) (3.4.1)\n",
      "Requirement already satisfied: pyasn1<0.6.0,>=0.4.6 in c:\\users\\dhivy\\anaconda3\\lib\\site-packages (from pyasn1-modules>=0.2.1->google-auth<3,>=1.6.3->tensorboard<2.10,>=2.9->tensorflow) (0.5.0)\n",
      "Requirement already satisfied: chardet<5,>=3.0.2 in c:\\users\\dhivy\\anaconda3\\lib\\site-packages (from requests<3,>=2.21.0->tensorboard<2.10,>=2.9->tensorflow) (4.0.0)\n",
      "Requirement already satisfied: certifi>=2017.4.17 in c:\\users\\dhivy\\anaconda3\\lib\\site-packages (from requests<3,>=2.21.0->tensorboard<2.10,>=2.9->tensorflow) (2020.12.5)\n",
      "Requirement already satisfied: idna<3,>=2.5 in c:\\users\\dhivy\\anaconda3\\lib\\site-packages (from requests<3,>=2.21.0->tensorboard<2.10,>=2.9->tensorflow) (2.10)\n",
      "Requirement already satisfied: oauthlib>=3.0.0 in c:\\users\\dhivy\\anaconda3\\lib\\site-packages (from requests-oauthlib>=0.7.0->google-auth-oauthlib<0.5,>=0.4.1->tensorboard<2.10,>=2.9->tensorflow) (3.2.2)\n",
      "Requirement already satisfied: pyparsing>=2.0.2 in c:\\users\\dhivy\\anaconda3\\lib\\site-packages (from packaging->tensorflow) (2.4.7)\n"
     ]
    }
   ],
   "source": [
    "!pip install tensorflow"
   ]
  },
  {
   "cell_type": "code",
   "execution_count": 4,
   "id": "ea127fc4",
   "metadata": {},
   "outputs": [
    {
     "name": "stdout",
     "output_type": "stream",
     "text": [
      "Requirement already satisfied: tensorflow==2.9.0 in c:\\users\\dhivy\\anaconda3\\lib\\site-packages (2.9.0)\n",
      "Requirement already satisfied: termcolor>=1.1.0 in c:\\users\\dhivy\\anaconda3\\lib\\site-packages (from tensorflow==2.9.0) (2.3.0)\n",
      "Requirement already satisfied: opt-einsum>=2.3.2 in c:\\users\\dhivy\\anaconda3\\lib\\site-packages (from tensorflow==2.9.0) (3.3.0)\n",
      "Requirement already satisfied: gast<=0.4.0,>=0.2.1 in c:\\users\\dhivy\\anaconda3\\lib\\site-packages (from tensorflow==2.9.0) (0.3.3)\n",
      "Requirement already satisfied: packaging in c:\\users\\dhivy\\anaconda3\\lib\\site-packages (from tensorflow==2.9.0) (20.9)\n",
      "Requirement already satisfied: grpcio<2.0,>=1.24.3 in c:\\users\\dhivy\\anaconda3\\lib\\site-packages (from tensorflow==2.9.0) (1.58.0)\n",
      "Requirement already satisfied: keras<2.10.0,>=2.9.0rc0 in c:\\users\\dhivy\\anaconda3\\lib\\site-packages (from tensorflow==2.9.0) (2.9.0)\n",
      "Requirement already satisfied: absl-py>=1.0.0 in c:\\users\\dhivy\\anaconda3\\lib\\site-packages (from tensorflow==2.9.0) (1.4.0)\n",
      "Requirement already satisfied: libclang>=13.0.0 in c:\\users\\dhivy\\anaconda3\\lib\\site-packages (from tensorflow==2.9.0) (16.0.6)\n",
      "Requirement already satisfied: typing-extensions>=3.6.6 in c:\\users\\dhivy\\anaconda3\\lib\\site-packages (from tensorflow==2.9.0) (3.7.4.3)\n",
      "Requirement already satisfied: six>=1.12.0 in c:\\users\\dhivy\\anaconda3\\lib\\site-packages (from tensorflow==2.9.0) (1.15.0)\n",
      "Requirement already satisfied: h5py>=2.9.0 in c:\\users\\dhivy\\anaconda3\\lib\\site-packages (from tensorflow==2.9.0) (2.10.0)\n",
      "Requirement already satisfied: tensorboard<2.10,>=2.9 in c:\\users\\dhivy\\anaconda3\\lib\\site-packages (from tensorflow==2.9.0) (2.9.1)\n",
      "Requirement already satisfied: setuptools in c:\\users\\dhivy\\anaconda3\\lib\\site-packages (from tensorflow==2.9.0) (52.0.0.post20210125)\n",
      "Requirement already satisfied: keras-preprocessing>=1.1.1 in c:\\users\\dhivy\\anaconda3\\lib\\site-packages (from tensorflow==2.9.0) (1.1.2)\n",
      "Requirement already satisfied: protobuf>=3.9.2 in c:\\users\\dhivy\\anaconda3\\lib\\site-packages (from tensorflow==2.9.0) (3.19.6)\n",
      "Requirement already satisfied: numpy>=1.20 in c:\\users\\dhivy\\anaconda3\\lib\\site-packages (from tensorflow==2.9.0) (1.22.1)\n",
      "Requirement already satisfied: wrapt>=1.11.0 in c:\\users\\dhivy\\anaconda3\\lib\\site-packages (from tensorflow==2.9.0) (1.12.1)\n",
      "Requirement already satisfied: google-pasta>=0.1.1 in c:\\users\\dhivy\\anaconda3\\lib\\site-packages (from tensorflow==2.9.0) (0.2.0)\n",
      "Requirement already satisfied: tensorflow-estimator<2.10.0,>=2.9.0rc0 in c:\\users\\dhivy\\anaconda3\\lib\\site-packages (from tensorflow==2.9.0) (2.9.0)\n",
      "Requirement already satisfied: astunparse>=1.6.0 in c:\\users\\dhivy\\anaconda3\\lib\\site-packages (from tensorflow==2.9.0) (1.6.3)\n",
      "Requirement already satisfied: tensorflow-io-gcs-filesystem>=0.23.1 in c:\\users\\dhivy\\anaconda3\\lib\\site-packages (from tensorflow==2.9.0) (0.31.0)\n",
      "Requirement already satisfied: flatbuffers<2,>=1.12 in c:\\users\\dhivy\\anaconda3\\lib\\site-packages (from tensorflow==2.9.0) (1.12)\n",
      "Requirement already satisfied: wheel<1.0,>=0.23.0 in c:\\users\\dhivy\\anaconda3\\lib\\site-packages (from astunparse>=1.6.0->tensorflow==2.9.0) (0.36.2)\n",
      "Requirement already satisfied: requests<3,>=2.21.0 in c:\\users\\dhivy\\anaconda3\\lib\\site-packages (from tensorboard<2.10,>=2.9->tensorflow==2.9.0) (2.25.1)\n",
      "Requirement already satisfied: google-auth-oauthlib<0.5,>=0.4.1 in c:\\users\\dhivy\\anaconda3\\lib\\site-packages (from tensorboard<2.10,>=2.9->tensorflow==2.9.0) (0.4.6)\n",
      "Requirement already satisfied: tensorboard-plugin-wit>=1.6.0 in c:\\users\\dhivy\\anaconda3\\lib\\site-packages (from tensorboard<2.10,>=2.9->tensorflow==2.9.0) (1.8.1)\n",
      "Requirement already satisfied: google-auth<3,>=1.6.3 in c:\\users\\dhivy\\anaconda3\\lib\\site-packages (from tensorboard<2.10,>=2.9->tensorflow==2.9.0) (2.23.0)\n",
      "Requirement already satisfied: werkzeug>=1.0.1 in c:\\users\\dhivy\\anaconda3\\lib\\site-packages (from tensorboard<2.10,>=2.9->tensorflow==2.9.0) (1.0.1)\n",
      "Requirement already satisfied: markdown>=2.6.8 in c:\\users\\dhivy\\anaconda3\\lib\\site-packages (from tensorboard<2.10,>=2.9->tensorflow==2.9.0) (3.4.4)\n",
      "Requirement already satisfied: tensorboard-data-server<0.7.0,>=0.6.0 in c:\\users\\dhivy\\anaconda3\\lib\\site-packages (from tensorboard<2.10,>=2.9->tensorflow==2.9.0) (0.6.1)\n",
      "Requirement already satisfied: cachetools<6.0,>=2.0.0 in c:\\users\\dhivy\\anaconda3\\lib\\site-packages (from google-auth<3,>=1.6.3->tensorboard<2.10,>=2.9->tensorflow==2.9.0) (4.2.4)\n",
      "Requirement already satisfied: pyasn1-modules>=0.2.1 in c:\\users\\dhivy\\anaconda3\\lib\\site-packages (from google-auth<3,>=1.6.3->tensorboard<2.10,>=2.9->tensorflow==2.9.0) (0.3.0)\n",
      "Requirement already satisfied: rsa<5,>=3.1.4 in c:\\users\\dhivy\\anaconda3\\lib\\site-packages (from google-auth<3,>=1.6.3->tensorboard<2.10,>=2.9->tensorflow==2.9.0) (4.9)\n",
      "Requirement already satisfied: urllib3<2.0 in c:\\users\\dhivy\\anaconda3\\lib\\site-packages (from google-auth<3,>=1.6.3->tensorboard<2.10,>=2.9->tensorflow==2.9.0) (1.26.4)\n",
      "Requirement already satisfied: requests-oauthlib>=0.7.0 in c:\\users\\dhivy\\anaconda3\\lib\\site-packages (from google-auth-oauthlib<0.5,>=0.4.1->tensorboard<2.10,>=2.9->tensorflow==2.9.0) (1.3.1)\n",
      "Requirement already satisfied: importlib-metadata>=4.4 in c:\\users\\dhivy\\anaconda3\\lib\\site-packages (from markdown>=2.6.8->tensorboard<2.10,>=2.9->tensorflow==2.9.0) (6.8.0)\n",
      "Requirement already satisfied: zipp>=0.5 in c:\\users\\dhivy\\anaconda3\\lib\\site-packages (from importlib-metadata>=4.4->markdown>=2.6.8->tensorboard<2.10,>=2.9->tensorflow==2.9.0) (3.4.1)\n",
      "Requirement already satisfied: pyasn1<0.6.0,>=0.4.6 in c:\\users\\dhivy\\anaconda3\\lib\\site-packages (from pyasn1-modules>=0.2.1->google-auth<3,>=1.6.3->tensorboard<2.10,>=2.9->tensorflow==2.9.0) (0.5.0)\n",
      "Requirement already satisfied: certifi>=2017.4.17 in c:\\users\\dhivy\\anaconda3\\lib\\site-packages (from requests<3,>=2.21.0->tensorboard<2.10,>=2.9->tensorflow==2.9.0) (2020.12.5)\n",
      "Requirement already satisfied: idna<3,>=2.5 in c:\\users\\dhivy\\anaconda3\\lib\\site-packages (from requests<3,>=2.21.0->tensorboard<2.10,>=2.9->tensorflow==2.9.0) (2.10)\n",
      "Requirement already satisfied: chardet<5,>=3.0.2 in c:\\users\\dhivy\\anaconda3\\lib\\site-packages (from requests<3,>=2.21.0->tensorboard<2.10,>=2.9->tensorflow==2.9.0) (4.0.0)\n",
      "Requirement already satisfied: oauthlib>=3.0.0 in c:\\users\\dhivy\\anaconda3\\lib\\site-packages (from requests-oauthlib>=0.7.0->google-auth-oauthlib<0.5,>=0.4.1->tensorboard<2.10,>=2.9->tensorflow==2.9.0) (3.2.2)\n",
      "Requirement already satisfied: pyparsing>=2.0.2 in c:\\users\\dhivy\\anaconda3\\lib\\site-packages (from packaging->tensorflow==2.9.0) (2.4.7)\n"
     ]
    }
   ],
   "source": [
    "!pip install tensorflow==2.9.0"
   ]
  },
  {
   "cell_type": "code",
   "execution_count": 5,
   "id": "9165e86f",
   "metadata": {},
   "outputs": [],
   "source": [
    "import numpy as np\n",
    "import pickle\n",
    "import cv2\n",
    "import keras\n",
    "from os import listdir\n",
    "from tensorflow.keras.preprocessing.image import img_to_array\n",
    "from keras.layers import BatchNormalization\n",
    "from sklearn.preprocessing import LabelBinarizer\n",
    "from keras.models import Sequential\n",
    "from keras.layers.convolutional import Conv2D\n",
    "from keras.layers.convolutional import MaxPooling2D\n",
    "from keras.layers.core import Activation, Flatten, Dropout, Dense\n",
    "from keras import backend as K\n",
    "from tensorflow.keras.preprocessing.image import img_to_array\n",
    "from keras.preprocessing.image import ImageDataGenerator\n",
    "from keras.optimizers import Adam\n",
    "from keras.preprocessing import image\n",
    "from tensorflow.keras.utils import img_to_array\n",
    "from sklearn.preprocessing import MultiLabelBinarizer\n",
    "from sklearn.model_selection import train_test_split\n",
    "import matplotlib.pyplot as plt"
   ]
  },
  {
   "cell_type": "code",
   "execution_count": 6,
   "id": "f38bb6ee",
   "metadata": {},
   "outputs": [],
   "source": [
    "EPOCHS = 25\n",
    "INIT_LR = 1e-3\n",
    "BS = 32\n",
    "default_image_size = tuple((256, 256))\n",
    "image_size = 0\n",
    "directory_root = \"C:/Users/dhivy/Downloads/dataset/datasetgraph\"\n",
    "width=256\n",
    "height=256\n",
    "depth=3"
   ]
  },
  {
   "cell_type": "code",
   "execution_count": 7,
   "id": "f3eacc9e",
   "metadata": {},
   "outputs": [],
   "source": [
    "def convert_image_to_array(image_dir):\n",
    "    try:\n",
    "        image = cv2.imread(image_dir)\n",
    "        if image is not None:\n",
    "            image = cv2.resize(image, default_image_size)\n",
    "            return img_to_array(image)\n",
    "        else:\n",
    "            return np.array([])\n",
    "    except Exception as e:\n",
    "        print(f\"Error: {e}\")\n",
    "        return None\n"
   ]
  },
  {
   "cell_type": "code",
   "execution_count": 8,
   "id": "6a98837f",
   "metadata": {},
   "outputs": [
    {
     "name": "stdout",
     "output_type": "stream",
     "text": [
      "[INFO] Loading images ...\n",
      "[INFO] Processing PlantVillage ...\n",
      "[INFO] Processing Grape___Black_rot ...\n",
      "[INFO] Processing Grape___Esca_(Black_Measles) ...\n",
      "[INFO] Processing Grape___healthy ...\n",
      "[INFO] Processing Grape___Leaf_blight_(Isariopsis_Leaf_Spot) ...\n",
      "[INFO] Processing train ...\n",
      "[INFO] Processing valid ...\n",
      "[INFO] Image loading completed\n"
     ]
    }
   ],
   "source": [
    "import cv2\n",
    "from tensorflow.keras.preprocessing.image import img_to_array\n",
    "import numpy as np\n",
    "import os\n",
    "import re\n",
    "\n",
    "EPOCHS = 25\n",
    "INIT_LR = 1e-3\n",
    "BS = 32\n",
    "default_image_size = tuple((256, 256))\n",
    "image_size = 0\n",
    "directory_root = \"C:/Users/dhivy/Downloads/dataset\"\n",
    "width = 256\n",
    "height = 256\n",
    "depth = 3\n",
    "\n",
    "def convert_image_to_array(image_dir):\n",
    "    try:\n",
    "        image = cv2.imread(image_dir)\n",
    "        if image is not None:\n",
    "            image = cv2.resize(image, default_image_size)\n",
    "            return img_to_array(image)\n",
    "        else:\n",
    "            return np.array([])\n",
    "    except Exception as e:\n",
    "        print(f\"Error: {e}\")\n",
    "        return None\n",
    "\n",
    "def is_image(filename):\n",
    "    return re.match(r\".*\\.(jpg|jpeg|png|bmp|tiff|JPG)$\", filename, re.IGNORECASE) is not None\n",
    "\n",
    "image_list, label_list = [],[]\n",
    "\n",
    "try:\n",
    "    print(\"[INFO] Loading images ...\")\n",
    "    root_dir = os.listdir(directory_root)\n",
    "\n",
    "    for directory in root_dir:\n",
    "        # Remove .DS_Store from list\n",
    "        if directory == \".DS_Store\":\n",
    "            root_dir.remove(directory)\n",
    "\n",
    "    for plant_folder in root_dir:\n",
    "        plant_disease_folder_list = os.listdir(f\"{directory_root}/{plant_folder}\")\n",
    "\n",
    "        for disease_folder in plant_disease_folder_list:\n",
    "            # Remove .DS_Store from list\n",
    "            if disease_folder == \".DS_Store\":\n",
    "                plant_disease_folder_list.remove(disease_folder)\n",
    "\n",
    "        for plant_disease_folder in plant_disease_folder_list:\n",
    "            print(f\"[INFO] Processing {plant_disease_folder} ...\")\n",
    "            plant_disease_image_list = os.listdir(f\"{directory_root}/{plant_folder}/{plant_disease_folder}\")\n",
    "\n",
    "            for single_plant_disease_image in plant_disease_image_list:\n",
    "                if is_image(single_plant_disease_image):\n",
    "                    image_directory = os.path.join(directory_root, plant_folder, plant_disease_folder, \"image1.JPG\")\n",
    "                    image_list.append(convert_image_to_array(image_directory))\n",
    "                    label_list.append(plant_disease_folder)\n",
    "\n",
    "    print(\"[INFO] Image loading completed\")  \n",
    "except Exception as e:\n",
    "    print(f\"Error: {e}\")\n"
   ]
  },
  {
   "cell_type": "code",
   "execution_count": 9,
   "id": "9a882477",
   "metadata": {},
   "outputs": [
    {
     "data": {
      "text/plain": [
       "4062"
      ]
     },
     "execution_count": 9,
     "metadata": {},
     "output_type": "execute_result"
    }
   ],
   "source": [
    "len(image_list)"
   ]
  },
  {
   "cell_type": "code",
   "execution_count": 10,
   "id": "ef3c936f",
   "metadata": {},
   "outputs": [
    {
     "name": "stdout",
     "output_type": "stream",
     "text": [
      "Requirement already satisfied: scikit-learn in c:\\users\\dhivy\\anaconda3\\lib\\site-packages (0.24.1)\n",
      "Requirement already satisfied: scipy>=0.19.1 in c:\\users\\dhivy\\anaconda3\\lib\\site-packages (from scikit-learn) (1.4.1)\n",
      "Requirement already satisfied: numpy>=1.13.3 in c:\\users\\dhivy\\anaconda3\\lib\\site-packages (from scikit-learn) (1.22.1)\n",
      "Requirement already satisfied: threadpoolctl>=2.0.0 in c:\\users\\dhivy\\anaconda3\\lib\\site-packages (from scikit-learn) (2.1.0)\n",
      "Requirement already satisfied: joblib>=0.11 in c:\\users\\dhivy\\anaconda3\\lib\\site-packages (from scikit-learn) (1.0.1)\n",
      "Note: you may need to restart the kernel to use updated packages.\n"
     ]
    }
   ],
   "source": [
    "pip install scikit-learn\n"
   ]
  },
  {
   "cell_type": "code",
   "execution_count": 11,
   "id": "1f1dd5d6",
   "metadata": {},
   "outputs": [],
   "source": [
    "from sklearn.preprocessing import LabelBinarizer\n",
    "\n",
    "# Rest of your code\n",
    "label_binarizer = LabelBinarizer()\n",
    "image_labels = label_binarizer.fit_transform(label_list)\n",
    "pickle.dump(label_binarizer, open('label_transform.pkl', 'wb'))\n",
    "n_classes = len(label_binarizer.classes_)"
   ]
  },
  {
   "cell_type": "code",
   "execution_count": 12,
   "id": "87f900c4",
   "metadata": {},
   "outputs": [
    {
     "name": "stdout",
     "output_type": "stream",
     "text": [
      "['Grape___Black_rot' 'Grape___Esca_(Black_Measles)'\n",
      " 'Grape___Leaf_blight_(Isariopsis_Leaf_Spot)' 'Grape___healthy']\n"
     ]
    }
   ],
   "source": [
    "print(label_binarizer.classes_)"
   ]
  },
  {
   "cell_type": "code",
   "execution_count": 13,
   "id": "4f6ffe6c",
   "metadata": {},
   "outputs": [
    {
     "name": "stdout",
     "output_type": "stream",
     "text": [
      "[INFO] Conversion to NumPy array completed\n"
     ]
    }
   ],
   "source": [
    "np_image_list = np.array(image_list[0], dtype=np.float32) / 255.0\n",
    "print(\"[INFO] Conversion to NumPy array completed\")"
   ]
  },
  {
   "cell_type": "code",
   "execution_count": 14,
   "id": "af8179b5",
   "metadata": {},
   "outputs": [
    {
     "name": "stdout",
     "output_type": "stream",
     "text": [
      "[INFO] Splitting data to train, test\n"
     ]
    }
   ],
   "source": [
    "from sklearn.model_selection import train_test_split\n",
    "\n",
    "# Assuming label_list contains the correct labels for each image\n",
    "print(\"[INFO] Splitting data to train, test\")\n",
    "x_train, x_test, y_train, y_test = train_test_split(np_image_list, label_list[:len(np_image_list)], test_size=0.2, random_state=42)\n",
    "\n"
   ]
  },
  {
   "cell_type": "code",
   "execution_count": 15,
   "id": "8fde4363",
   "metadata": {},
   "outputs": [],
   "source": [
    "++aug = ImageDataGenerator(\n",
    "    rotation_range=25, width_shift_range=0.1,\n",
    "    height_shift_range=0.1, shear_range=0.2, \n",
    "    zoom_range=0.2,horizontal_flip=True, \n",
    " +   fill_mode=\"nearest\")"
   ]
  },
  {
   "cell_type": "code",
   "execution_count": 16,
   "id": "39695d0a",
   "metadata": {},
   "outputs": [
    {
     "name": "stdout",
     "output_type": "stream",
     "text": [
      "Found 3251 images belonging to 4 classes.\n",
      "Found 811 images belonging to 4 classes.\n",
      "Epoch 1/20\n",
      "102/102 [==============================] - 89s 857ms/step - loss: 0.8513 - accuracy: 0.7484 - val_loss: 11.5627 - val_accuracy: 0.1036\n",
      "Epoch 2/20\n",
      "102/102 [==============================] - 88s 860ms/step - loss: 0.5110 - accuracy: 0.8253 - val_loss: 14.4533 - val_accuracy: 0.3206\n",
      "Epoch 3/20\n",
      "102/102 [==============================] - 90s 879ms/step - loss: 0.3349 - accuracy: 0.8794 - val_loss: 10.8506 - val_accuracy: 0.2651\n",
      "Epoch 4/20\n",
      "102/102 [==============================] - 144s 1s/step - loss: 0.2980 - accuracy: 0.8970 - val_loss: 6.6769 - val_accuracy: 0.3428\n",
      "Epoch 5/20\n",
      "102/102 [==============================] - 128s 1s/step - loss: 0.2505 - accuracy: 0.9099 - val_loss: 7.3363 - val_accuracy: 0.3231\n",
      "Epoch 6/20\n",
      "102/102 [==============================] - 91s 892ms/step - loss: 0.2509 - accuracy: 0.9093 - val_loss: 3.6860 - val_accuracy: 0.4192\n",
      "Epoch 7/20\n",
      "102/102 [==============================] - 92s 904ms/step - loss: 0.1642 - accuracy: 0.9425 - val_loss: 1.0381 - val_accuracy: 0.7633\n",
      "Epoch 8/20\n",
      "102/102 [==============================] - 89s 869ms/step - loss: 0.1465 - accuracy: 0.9486 - val_loss: 3.3512 - val_accuracy: 0.4932\n",
      "Epoch 9/20\n",
      "102/102 [==============================] - 91s 891ms/step - loss: 0.1884 - accuracy: 0.9336 - val_loss: 3.8251 - val_accuracy: 0.5561\n",
      "Epoch 10/20\n",
      "102/102 [==============================] - 91s 895ms/step - loss: 0.1258 - accuracy: 0.9606 - val_loss: 1.2565 - val_accuracy: 0.7176\n",
      "Epoch 11/20\n",
      "102/102 [==============================] - 91s 889ms/step - loss: 0.1377 - accuracy: 0.9597 - val_loss: 1.2818 - val_accuracy: 0.7201\n",
      "Epoch 12/20\n",
      "102/102 [==============================] - 92s 900ms/step - loss: 0.1324 - accuracy: 0.9566 - val_loss: 0.1317 - val_accuracy: 0.9507\n",
      "Epoch 13/20\n",
      "102/102 [==============================] - 105s 1s/step - loss: 0.1253 - accuracy: 0.9582 - val_loss: 2.1982 - val_accuracy: 0.5832\n",
      "Epoch 14/20\n",
      "102/102 [==============================] - 89s 878ms/step - loss: 0.1344 - accuracy: 0.9508 - val_loss: 0.8459 - val_accuracy: 0.8039\n",
      "Epoch 15/20\n",
      "102/102 [==============================] - 91s 891ms/step - loss: 0.1179 - accuracy: 0.9612 - val_loss: 0.5721 - val_accuracy: 0.8656\n",
      "Epoch 16/20\n",
      "102/102 [==============================] - 96s 944ms/step - loss: 0.1343 - accuracy: 0.9483 - val_loss: 13.7876 - val_accuracy: 0.3564\n",
      "Epoch 17/20\n",
      "102/102 [==============================] - 87s 849ms/step - loss: 0.1080 - accuracy: 0.9585 - val_loss: 1.9070 - val_accuracy: 0.7078\n",
      "Epoch 18/20\n",
      "102/102 [==============================] - 86s 845ms/step - loss: 0.0971 - accuracy: 0.9683 - val_loss: 0.3813 - val_accuracy: 0.9075\n",
      "Epoch 19/20\n",
      "102/102 [==============================] - 92s 900ms/step - loss: 0.0834 - accuracy: 0.9699 - val_loss: 0.3901 - val_accuracy: 0.8693\n",
      "Epoch 20/20\n",
      "102/102 [==============================] - 88s 863ms/step - loss: 0.0987 - accuracy: 0.9671 - val_loss: 0.1311 - val_accuracy: 0.9679\n"
     ]
    }
   ],
   "source": [
    "++from keras.models import Sequential\n",
    "from keras.layers import Conv2D, MaxPooling2D, Flatten, Dense, Dropout, Activation, BatchNormalization\n",
    "from keras.optimizers import Adam\n",
    "from keras.preprocessing.image import ImageDataGenerator\n",
    "import os\n",
    "\n",
    "# Define the model\n",
    "model = Sequential()\n",
    "\n",
    "# Define the input shape and channel dimension\n",
    "inputShape = (128, 128, 3)\n",
    "chanDim = -1\n",
    "# Add the layers to the model\n",
    "model.add(Conv2D(32, (3, 3), padding=\"same\", input_shape=inputShape))\n",
    "model.add(Activation(\"relu\"))\n",
    "model.add(BatchNormalization(axis=chanDim))\n",
    "model.add(MaxPooling2D(pool_size=(3, 3)))\n",
    "model.add(Dropout(0.25))\n",
    "\n",
    "model.add(Conv2D(64, (3, 3), padding=\"same\"))\n",
    "model.add(Activation(\"relu\"))\n",
    "model.add(BatchNormalization(axis=chanDim))\n",
    "    `\n",
    "\n",
    "model.add(Conv2D(64, (3, 3), padding=\"same\"))\n",
    "model.add(Activation(\"relu\"))\n",
    "mode++l.add(BatchNormalization(axis=chanDim))\n",
    "model.add(MaxPooling2D(pool_size=(2, 2)))\n",
    "model.add(Dropout(0.25))\n",
    "\n",
    "model.add(Conv2D(128, (3, 3), padding=\"same\"))\n",
    "model.add(Activation(\"relu\"))\n",
    "model.add(BatchNormalization(axis=chanDim))\n",
    "\n",
    "model.add(Conv2D(128, (3, 3), padding=\"same\"))\n",
    "model.add(Activation(\"relu\"))\n",
    "model.add(BatchNormalization(axis=chanDim))\n",
    "model.add(MaxPooling2D(pool_size=(2, 2)))\n",
    "model.add(Dropout(0.25))\n",
    "\n",
    "model.add(Flatten())\n",
    "model.add(Dense(1024))\n",
    "model.add(Activation(\"relu\"))\n",
    "model.add(BatchNormalization())\n",
    "model.add(Dropout(0.5))\n",
    "model.add(Dense(len(os.listdir('C:/Users/dhivy/Downloads/dataset/datasetgraph'))))\n",
    "model.add(Activation(\"softmax\"))\n",
    "\n",
    "\n",
    " \n",
    "# Compile the model\n",
    "model.compile(optimizer=Adam(learning_rate=0.001), loss='categorical_crossentropy', metrics=['accuracy'])\n",
    "\n",
    "# Create an instance of ImageDataGenerator for data augmentation and validation split\n",
    "train_datagen = ImageDataGenerator(\n",
    "    rescale=1./255,\n",
    "    rotation_range=20,\n",
    "    width_shift_range=0.2,\n",
    "    height_shift_range=0.2,\n",
    "    shear_range=0.2,\n",
    "    zoom_range=0.2,\n",
    "    horizontal_flip=True,\n",
    "    validation_split=0.2  # 20% of the data will be used for validation\n",
    ")\n",
    "\n",
    "# Create a generator for training data\n",
    "train_generator = train_datagen.flow_from_directory(\n",
    "    'C:/Users/dhivy/Downloads/dataset/datasetgraph', \n",
    "    target_size=(128, 128), \n",
    "    batch_size=32, \n",
    "    class_mode='categorical',\n",
    "    subset='training'  # Specify this is for training data\n",
    ")\n",
    "\n",
    "# Create a generator for validation data\n",
    "valid_generator = train_datagen.flow_from_directory(\n",
    "    'C:/Users/dhivy/Downloads/dataset/datasetgraph', \n",
    "    target_size=(128, 128), \n",
    "    batch_size=32, \n",
    "    c\n",
    "    lass_mode='categorical',\n",
    "    \n",
    "    \n",
    "    +\n",
    "    subset='validation'  # Specify this is for validation data\n",
    ")\n",
    "\n",
    "# Fit the model using fit_generator with validation data\n",
    "history = model.fit(\n",
    "    train_generator, \n",
    "    steps_per_epoch=len(train_generator), \n",
    "    epochs=20,  # Increase the number of epochs\n",
    "    validation_data=valid_generator,  # Use the validation data here\n",
    "    validation_steps=len(valid_generator)  # Number of validation steps\n",
    ")\n",
    "\n",
    "\n"
   ]
  },
  {
   "cell_type": "code",
   "execution_count": 17,
   "id": "bc02899e",
   "metadata": {},
   "outputs": [
    {
     "name": "stdout",
     "output_type": "stream",
     "text": [
      "Model: \"sequential\"\n",
      "_________________________________________________________________\n",
      " Layer (type)                Output Shape              Param #   \n",
      "=================================================================\n",
      " conv2d (Conv2D)             (None, 128, 128, 32)      896       \n",
      "                                                                 \n",
      " activation (Activation)     (None, 128, 128, 32)      0         \n",
      "                                                                 \n",
      " batch_normalization (BatchN  (None, 128, 128, 32)     128       \n",
      " ormalization)                                                   \n",
      "                                                                 \n",
      " max_pooling2d (MaxPooling2D  (None, 42, 42, 32)       0         \n",
      " )                                                               \n",
      "                                                                 \n",
      " dropout (Dropout)           (None, 42, 42, 32)        0         \n",
      "                                                                 \n",
      " conv2d_1 (Conv2D)           (None, 42, 42, 64)        18496     \n",
      "                                                                 \n",
      " activation_1 (Activation)   (None, 42, 42, 64)        0         \n",
      "                                                                 \n",
      " batch_normalization_1 (Batc  (None, 42, 42, 64)       256       \n",
      " hNormalization)                                                 \n",
      "                                                                 \n",
      " conv2d_2 (Conv2D)           (None, 42, 42, 64)        36928     \n",
      "                                                                 \n",
      " activation_2 (Activation)   (None, 42, 42, 64)        0         \n",
      "                                                                 \n",
      " batch_normalization_2 (Batc  (None, 42, 42, 64)       256       \n",
      " hNormalization)                                                 \n",
      "                                                                 \n",
      " max_pooling2d_1 (MaxPooling  (None, 21, 21, 64)       0         \n",
      " 2D)                                                             \n",
      "                                                                 \n",
      " dropout_1 (Dropout)         (None, 21, 21, 64)        0         \n",
      "                                                                 \n",
      " conv2d_3 (Conv2D)           (None, 21, 21, 128)       73856     \n",
      "                                                                 \n",
      " activation_3 (Activation)   (None, 21, 21, 128)       0         \n",
      "                                                                 \n",
      " batch_normalization_3 (Batc  (None, 21, 21, 128)      512       \n",
      " hNormalization)                                                 \n",
      "                                                                 \n",
      " conv2d_4 (Conv2D)           (None, 21, 21, 128)       147584    \n",
      "                                                                 \n",
      " activation_4 (Activation)   (None, 21, 21, 128)       0         \n",
      "                                                                 \n",
      " batch_normalization_4 (Batc  (None, 21, 21, 128)      512       \n",
      " hNormalization)                                                 \n",
      "                                                                 \n",
      " max_pooling2d_2 (MaxPooling  (None, 10, 10, 128)      0         \n",
      " 2D)                                                             \n",
      "                                                                 \n",
      " dropout_2 (Dropout)         (None, 10, 10, 128)       0         \n",
      "                                                                 \n",
      " flatten (Flatten)           (None, 12800)             0         \n",
      "                                                                 \n",
      " dense (Dense)               (None, 1024)              13108224  \n",
      "                                                                 \n",
      " activation_5 (Activation)   (None, 1024)              0         \n",
      "                                                                 \n",
      " batch_normalization_5 (Batc  (None, 1024)             4096      \n",
      " hNormalization)                                                 \n",
      "                                                                 \n",
      " dropout_3 (Dropout)         (None, 1024)              0         \n",
      "                                                                 \n",
      " dense_1 (Dense)             (None, 4)                 4100      \n",
      "                                                                 \n",
      " activation_6 (Activation)   (None, 4)                 0         \n",
      "                                                                 \n",
      "=================================================================\n",
      "Total params: 13,395,844\n",
      "Trainable params: 13,392,964\n",
      "Non-trainable params: 2,880\n",
      "_________________________________________________________________\n"
     ]
    }
   ],
   "source": [
    "model.summary()"
   ]
  },
  {
   "cell_type": "code",
   "execution_count": 18,
   "id": "1c274377",
   "metadata": {},
   "outputs": [
    {
     "data": {
      "image/png": "[encoded data removed]",
      "text/plain": [
       "<Figure size 432x288 with 1 Axes>"
      ]
     },
     "metadata": {
      "needs_background": "light"
     },
     "output_type": "display_data"
    },
    {
     "data": {
      "image/png": "[encoded data removed]",
      "text/plain": [
       "<Figure size 432x288 with 1 Axes>"
      ]
     },
     "metadata": {
      "needs_background": "light"
     },
     "output_type": "display_data"
    }
   ],
   "source": [
    "acc = history.history['accuracy']  \n",
    "val_acc = history.history['val_accuracy']  \n",
    "loss = history.history['loss']\n",
    "val_loss = history.history['val_loss']\n",
    "epochs = range(1, len(acc) + 1)\n",
    "\n",
    "# Plotting training and validation accuracies\n",
    "plt.plot(epochs, acc, 'b', label='Training accuracy')\n",
    "plt.plot(epochs, val_acc, 'r', label='Validation accuracy')\n",
    "plt.title('Training and Validation Accuracy')\n",
    "plt.xlabel('Epochs')\n",
    "plt.ylabel('Accuracy')\n",
    "plt.legend()\n",
    "plt.show()\n",
    "\n",
    "# Plotting training and validation losses\n",
    "plt.plot(epochs, loss, 'b', label='Training loss')\n",
    "plt.plot(epochs, val_loss, 'r', label='Validation loss')\n",
    "plt.title('Training and Validation Loss')\n",
    "plt.xlabel('Epochs')\n",
    "plt.ylabel('Loss')\n",
    "plt.legend()\n",
    "plt.show()"
   ]
  },
  {
   "cell_type": "code",
   "execution_count": 19,
   "id": "fcdc3039",
   "metadata": {},
   "outputs": [
    {
     "name": "stdout",
     "output_type": "stream",
     "text": [
      "Epoch 1: Training Accuracy = 0.7483851313591003, Training Loss = 0.8512687087059021\n",
      "Epoch 2: Training Accuracy = 0.8252845406532288, Training Loss = 0.5109853148460388\n",
      "Epoch 3: Training Accuracy = 0.8794217109680176, Training Loss = 0.33488166332244873\n",
      "Epoch 4: Training Accuracy = 0.8969547748565674, Training Loss = 0.29802510142326355\n",
      "Epoch 5: Training Accuracy = 0.909873902797699, Training Loss = 0.25049129128456116\n",
      "Epoch 6: Training Accuracy = 0.9092586636543274, Training Loss = 0.2509472072124481\n",
      "Epoch 7: Training Accuracy = 0.9424792528152466, Training Loss = 0.16416867077350616\n",
      "Epoch 8: Training Accuracy = 0.9486311674118042, Training Loss = 0.14651533961296082\n",
      "Epoch 9: Training Accuracy = 0.9335588812828064, Training Loss = 0.18837977945804596\n",
      "Epoch 10: Training Accuracy = 0.9606274962425232, Training Loss = 0.1257835030555725\n",
      "Epoch 11: Training Accuracy = 0.9597046971321106, Training Loss = 0.1377299726009369\n",
      "Epoch 12: Training Accuracy = 0.9566287398338318, Training Loss = 0.1324271857738495\n",
      "Epoch 13: Training Accuracy = 0.9581667184829712, Training Loss = 0.12529446184635162\n",
      "Epoch 14: Training Accuracy = 0.9507843852043152, Training Loss = 0.13440094888210297\n",
      "Epoch 15: Training Accuracy = 0.96124267578125, Training Loss = 0.1178741380572319\n",
      "Epoch 16: Training Accuracy = 0.9483236074447632, Training Loss = 0.13427826762199402\n",
      "Epoch 17: Training Accuracy = 0.958474338054657, Training Loss = 0.10801567882299423\n",
      "Epoch 18: Training Accuracy = 0.968317449092865, Training Loss = 0.09711460024118423\n",
      "Epoch 19: Training Accuracy = 0.9698554277420044, Training Loss = 0.08335611969232559\n",
      "Epoch 20: Training Accuracy = 0.9670870304107666, Training Loss = 0.09868402034044266\n"
     ]
    }
   ],
   "source": [
    "for epoch, accuracy, loss_value in zip(range(1, len(acc) + 1), acc, loss):\n",
    "    print(f\"Epoch {epoch}: Training Accuracy = {accuracy}, Training Loss = {loss_value}\")"
   ]
  },
  {
   "cell_type": "code",
   "execution_count": 20,
   "id": "15979a80",
   "metadata": {},
   "outputs": [
    {
     "name": "stdout",
     "output_type": "stream",
     "text": [
      "26/26 [==============================] - 6s 227ms/step - loss: 0.1125 - accuracy: 0.9605\n",
      "Test Accuracy: 0.9605425596237183\n"
     ]
    }
   ],
   "source": [
    "# Evaluate the model on test data\n",
    "test_scores = model.evaluate(valid_generator, steps=len(valid_generator))\n",
    "test_accuracy = test_scores[1]\n",
    "\n",
    "# Print test accuracy\n",
    "print(f\"Test Accuracy: {test_accuracy}\")\n"
   ]
  },
  {
   "cell_type": "code",
   "execution_count": null,
   "id": "09036bc6",
   "metadata": {},
   "outputs": [],
   "source": []
  },
  {
   "cell_type": "code",
   "execution_count": null,
   "id": "abcfd1e8",
   "metadata": {},
   "outputs": [],
   "source": []
  }
 ],
 "metadata": {
  "kernelspec": {
   "display_name": "Python 3",
   "language": "python",
   "name": "python3"
  },
  "language_info": {
   "codemirror_mode": {
    "name": "ipython",
    "version": 3
   },
   "file_extension": ".py",
   "mimetype": "text/x-python",
   "name": "python",
   "nbconvert_exporter": "python",
   "pygments_lexer": "ipython3",
   "version": "3.8.8"
  }
 },
 "nbformat": 4,
 "nbformat_minor": 5
}
