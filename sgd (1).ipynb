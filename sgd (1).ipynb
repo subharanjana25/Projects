{
 "cells": [
  {
   "cell_type": "code",
   "execution_count": 2,
   "id": "0f395268",
   "metadata": {},
   "outputs": [
    {
     "name": "stdout",
     "output_type": "stream",
     "text": [
      "Requirement already satisfied: opencv-python in c:\\users\\dhivy\\anaconda3\\lib\\site-packages (4.8.1.78)\n",
      "Requirement already satisfied: numpy>=1.17.3 in c:\\users\\dhivy\\anaconda3\\lib\\site-packages (from opencv-python) (1.22.1)\n",
      "Note: you may need to restart the kernel to use updated packages.\n"
     ]
    }
   ],
   "source": [
    "pip install opencv-python"
   ]
  },
  {
   "cell_type": "code",
   "execution_count": 3,
   "id": "1cc169ec",
   "metadata": {},
   "outputs": [
    {
     "name": "stdout",
     "output_type": "stream",
     "text": [
      "Requirement already satisfied: numpy==1.22.1 in c:\\users\\dhivy\\anaconda3\\lib\\site-packages (1.22.1)\n"
     ]
    }
   ],
   "source": [
    "!pip install numpy==1.22.1"
   ]
  },
  {
   "cell_type": "code",
   "execution_count": 4,
   "id": "8ec20774",
   "metadata": {},
   "outputs": [
    {
     "name": "stdout",
     "output_type": "stream",
     "text": [
      "Requirement already satisfied: tensorflow in c:\\users\\dhivy\\anaconda3\\lib\\site-packages (2.9.0)\n",
      "Requirement already satisfied: protobuf>=3.9.2 in c:\\users\\dhivy\\anaconda3\\lib\\site-packages (from tensorflow) (3.19.6)\n",
      "Requirement already satisfied: setuptools in c:\\users\\dhivy\\anaconda3\\lib\\site-packages (from tensorflow) (52.0.0.post20210125)\n",
      "Requirement already satisfied: typing-extensions>=3.6.6 in c:\\users\\dhivy\\anaconda3\\lib\\site-packages (from tensorflow) (3.7.4.3)\n",
      "Requirement already satisfied: packaging in c:\\users\\dhivy\\anaconda3\\lib\\site-packages (from tensorflow) (20.9)\n",
      "Requirement already satisfied: astunparse>=1.6.0 in c:\\users\\dhivy\\anaconda3\\lib\\site-packages (from tensorflow) (1.6.3)\n",
      "Requirement already satisfied: libclang>=13.0.0 in c:\\users\\dhivy\\anaconda3\\lib\\site-packages (from tensorflow) (16.0.6)\n",
      "Requirement already satisfied: wrapt>=1.11.0 in c:\\users\\dhivy\\anaconda3\\lib\\site-packages (from tensorflow) (1.12.1)\n",
      "Requirement already satisfied: tensorboard<2.10,>=2.9 in c:\\users\\dhivy\\anaconda3\\lib\\site-packages (from tensorflow) (2.9.1)\n",
      "Requirement already satisfied: flatbuffers<2,>=1.12 in c:\\users\\dhivy\\anaconda3\\lib\\site-packages (from tensorflow) (1.12)\n",
      "Requirement already satisfied: tensorflow-io-gcs-filesystem>=0.23.1 in c:\\users\\dhivy\\anaconda3\\lib\\site-packages (from tensorflow) (0.31.0)\n",
      "Requirement already satisfied: opt-einsum>=2.3.2 in c:\\users\\dhivy\\anaconda3\\lib\\site-packages (from tensorflow) (3.3.0)\n",
      "Requirement already satisfied: tensorflow-estimator<2.10.0,>=2.9.0rc0 in c:\\users\\dhivy\\anaconda3\\lib\\site-packages (from tensorflow) (2.9.0)\n",
      "Requirement already satisfied: google-pasta>=0.1.1 in c:\\users\\dhivy\\anaconda3\\lib\\site-packages (from tensorflow) (0.2.0)\n",
      "Requirement already satisfied: keras-preprocessing>=1.1.1 in c:\\users\\dhivy\\anaconda3\\lib\\site-packages (from tensorflow) (1.1.2)\n",
      "Requirement already satisfied: grpcio<2.0,>=1.24.3 in c:\\users\\dhivy\\anaconda3\\lib\\site-packages (from tensorflow) (1.58.0)\n",
      "Requirement already satisfied: numpy>=1.20 in c:\\users\\dhivy\\anaconda3\\lib\\site-packages (from tensorflow) (1.22.1)\n",
      "Requirement already satisfied: termcolor>=1.1.0 in c:\\users\\dhivy\\anaconda3\\lib\\site-packages (from tensorflow) (2.3.0)\n",
      "Requirement already satisfied: absl-py>=1.0.0 in c:\\users\\dhivy\\anaconda3\\lib\\site-packages (from tensorflow) (1.4.0)\n",
      "Requirement already satisfied: six>=1.12.0 in c:\\users\\dhivy\\anaconda3\\lib\\site-packages (from tensorflow) (1.15.0)\n",
      "Requirement already satisfied: h5py>=2.9.0 in c:\\users\\dhivy\\anaconda3\\lib\\site-packages (from tensorflow) (2.10.0)\n",
      "Requirement already satisfied: gast<=0.4.0,>=0.2.1 in c:\\users\\dhivy\\anaconda3\\lib\\site-packages (from tensorflow) (0.3.3)\n",
      "Requirement already satisfied: keras<2.10.0,>=2.9.0rc0 in c:\\users\\dhivy\\anaconda3\\lib\\site-packages (from tensorflow) (2.9.0)\n",
      "Requirement already satisfied: wheel<1.0,>=0.23.0 in c:\\users\\dhivy\\anaconda3\\lib\\site-packages (from astunparse>=1.6.0->tensorflow) (0.36.2)\n",
      "Requirement already satisfied: tensorboard-data-server<0.7.0,>=0.6.0 in c:\\users\\dhivy\\anaconda3\\lib\\site-packages (from tensorboard<2.10,>=2.9->tensorflow) (0.6.1)\n",
      "Requirement already satisfied: markdown>=2.6.8 in c:\\users\\dhivy\\anaconda3\\lib\\site-packages (from tensorboard<2.10,>=2.9->tensorflow) (3.4.4)\n",
      "Requirement already satisfied: tensorboard-plugin-wit>=1.6.0 in c:\\users\\dhivy\\anaconda3\\lib\\site-packages (from tensorboard<2.10,>=2.9->tensorflow) (1.8.1)\n",
      "Requirement already satisfied: requests<3,>=2.21.0 in c:\\users\\dhivy\\anaconda3\\lib\\site-packages (from tensorboard<2.10,>=2.9->tensorflow) (2.25.1)\n",
      "Requirement already satisfied: google-auth-oauthlib<0.5,>=0.4.1 in c:\\users\\dhivy\\anaconda3\\lib\\site-packages (from tensorboard<2.10,>=2.9->tensorflow) (0.4.6)\n",
      "Requirement already satisfied: google-auth<3,>=1.6.3 in c:\\users\\dhivy\\anaconda3\\lib\\site-packages (from tensorboard<2.10,>=2.9->tensorflow) (2.23.0)\n",
      "Requirement already satisfied: werkzeug>=1.0.1 in c:\\users\\dhivy\\anaconda3\\lib\\site-packages (from tensorboard<2.10,>=2.9->tensorflow) (1.0.1)\n",
      "Requirement already satisfied: urllib3<2.0 in c:\\users\\dhivy\\anaconda3\\lib\\site-packages (from google-auth<3,>=1.6.3->tensorboard<2.10,>=2.9->tensorflow) (1.26.4)\n",
      "Requirement already satisfied: cachetools<6.0,>=2.0.0 in c:\\users\\dhivy\\anaconda3\\lib\\site-packages (from google-auth<3,>=1.6.3->tensorboard<2.10,>=2.9->tensorflow) (4.2.4)\n",
      "Requirement already satisfied: pyasn1-modules>=0.2.1 in c:\\users\\dhivy\\anaconda3\\lib\\site-packages (from google-auth<3,>=1.6.3->tensorboard<2.10,>=2.9->tensorflow) (0.3.0)\n",
      "Requirement already satisfied: rsa<5,>=3.1.4 in c:\\users\\dhivy\\anaconda3\\lib\\site-packages (from google-auth<3,>=1.6.3->tensorboard<2.10,>=2.9->tensorflow) (4.9)\n",
      "Requirement already satisfied: requests-oauthlib>=0.7.0 in c:\\users\\dhivy\\anaconda3\\lib\\site-packages (from google-auth-oauthlib<0.5,>=0.4.1->tensorboard<2.10,>=2.9->tensorflow) (1.3.1)\n",
      "Requirement already satisfied: importlib-metadata>=4.4 in c:\\users\\dhivy\\anaconda3\\lib\\site-packages (from markdown>=2.6.8->tensorboard<2.10,>=2.9->tensorflow) (6.8.0)\n",
      "Requirement already satisfied: zipp>=0.5 in c:\\users\\dhivy\\anaconda3\\lib\\site-packages (from importlib-metadata>=4.4->markdown>=2.6.8->tensorboard<2.10,>=2.9->tensorflow) (3.4.1)\n",
      "Requirement already satisfied: pyasn1<0.6.0,>=0.4.6 in c:\\users\\dhivy\\anaconda3\\lib\\site-packages (from pyasn1-modules>=0.2.1->google-auth<3,>=1.6.3->tensorboard<2.10,>=2.9->tensorflow) (0.5.0)\n",
      "Requirement already satisfied: certifi>=2017.4.17 in c:\\users\\dhivy\\anaconda3\\lib\\site-packages (from requests<3,>=2.21.0->tensorboard<2.10,>=2.9->tensorflow) (2020.12.5)\n",
      "Requirement already satisfied: idna<3,>=2.5 in c:\\users\\dhivy\\anaconda3\\lib\\site-packages (from requests<3,>=2.21.0->tensorboard<2.10,>=2.9->tensorflow) (2.10)\n",
      "Requirement already satisfied: chardet<5,>=3.0.2 in c:\\users\\dhivy\\anaconda3\\lib\\site-packages (from requests<3,>=2.21.0->tensorboard<2.10,>=2.9->tensorflow) (4.0.0)\n",
      "Requirement already satisfied: oauthlib>=3.0.0 in c:\\users\\dhivy\\anaconda3\\lib\\site-packages (from requests-oauthlib>=0.7.0->google-auth-oauthlib<0.5,>=0.4.1->tensorboard<2.10,>=2.9->tensorflow) (3.2.2)\n",
      "Requirement already satisfied: pyparsing>=2.0.2 in c:\\users\\dhivy\\anaconda3\\lib\\site-packages (from packaging->tensorflow) (2.4.7)\n"
     ]
    }
   ],
   "source": [
    "!pip install tensorflow"
   ]
  },
  {
   "cell_type": "code",
   "execution_count": 5,
   "id": "f4566a58",
   "metadata": {},
   "outputs": [
    {
     "name": "stdout",
     "output_type": "stream",
     "text": [
      "Requirement already satisfied: tensorflow==2.9.0 in c:\\users\\dhivy\\anaconda3\\lib\\site-packages (2.9.0)\n",
      "Requirement already satisfied: astunparse>=1.6.0 in c:\\users\\dhivy\\anaconda3\\lib\\site-packages (from tensorflow==2.9.0) (1.6.3)\n",
      "Requirement already satisfied: h5py>=2.9.0 in c:\\users\\dhivy\\anaconda3\\lib\\site-packages (from tensorflow==2.9.0) (2.10.0)\n",
      "Requirement already satisfied: six>=1.12.0 in c:\\users\\dhivy\\anaconda3\\lib\\site-packages (from tensorflow==2.9.0) (1.15.0)\n",
      "Requirement already satisfied: tensorflow-io-gcs-filesystem>=0.23.1 in c:\\users\\dhivy\\anaconda3\\lib\\site-packages (from tensorflow==2.9.0) (0.31.0)\n",
      "Requirement already satisfied: packaging in c:\\users\\dhivy\\anaconda3\\lib\\site-packages (from tensorflow==2.9.0) (20.9)\n",
      "Requirement already satisfied: protobuf>=3.9.2 in c:\\users\\dhivy\\anaconda3\\lib\\site-packages (from tensorflow==2.9.0) (3.19.6)\n",
      "Requirement already satisfied: typing-extensions>=3.6.6 in c:\\users\\dhivy\\anaconda3\\lib\\site-packages (from tensorflow==2.9.0) (3.7.4.3)\n",
      "Requirement already satisfied: opt-einsum>=2.3.2 in c:\\users\\dhivy\\anaconda3\\lib\\site-packages (from tensorflow==2.9.0) (3.3.0)\n",
      "Requirement already satisfied: google-pasta>=0.1.1 in c:\\users\\dhivy\\anaconda3\\lib\\site-packages (from tensorflow==2.9.0) (0.2.0)\n",
      "Requirement already satisfied: keras<2.10.0,>=2.9.0rc0 in c:\\users\\dhivy\\anaconda3\\lib\\site-packages (from tensorflow==2.9.0) (2.9.0)\n",
      "Requirement already satisfied: keras-preprocessing>=1.1.1 in c:\\users\\dhivy\\anaconda3\\lib\\site-packages (from tensorflow==2.9.0) (1.1.2)\n",
      "Requirement already satisfied: setuptools in c:\\users\\dhivy\\anaconda3\\lib\\site-packages (from tensorflow==2.9.0) (52.0.0.post20210125)\n",
      "Requirement already satisfied: grpcio<2.0,>=1.24.3 in c:\\users\\dhivy\\anaconda3\\lib\\site-packages (from tensorflow==2.9.0) (1.58.0)\n",
      "Requirement already satisfied: libclang>=13.0.0 in c:\\users\\dhivy\\anaconda3\\lib\\site-packages (from tensorflow==2.9.0) (16.0.6)\n",
      "Requirement already satisfied: wrapt>=1.11.0 in c:\\users\\dhivy\\anaconda3\\lib\\site-packages (from tensorflow==2.9.0) (1.12.1)\n",
      "Requirement already satisfied: flatbuffers<2,>=1.12 in c:\\users\\dhivy\\anaconda3\\lib\\site-packages (from tensorflow==2.9.0) (1.12)\n",
      "Requirement already satisfied: numpy>=1.20 in c:\\users\\dhivy\\anaconda3\\lib\\site-packages (from tensorflow==2.9.0) (1.22.1)\n",
      "Requirement already satisfied: tensorflow-estimator<2.10.0,>=2.9.0rc0 in c:\\users\\dhivy\\anaconda3\\lib\\site-packages (from tensorflow==2.9.0) (2.9.0)\n",
      "Requirement already satisfied: termcolor>=1.1.0 in c:\\users\\dhivy\\anaconda3\\lib\\site-packages (from tensorflow==2.9.0) (2.3.0)\n",
      "Requirement already satisfied: tensorboard<2.10,>=2.9 in c:\\users\\dhivy\\anaconda3\\lib\\site-packages (from tensorflow==2.9.0) (2.9.1)\n",
      "Requirement already satisfied: absl-py>=1.0.0 in c:\\users\\dhivy\\anaconda3\\lib\\site-packages (from tensorflow==2.9.0) (1.4.0)\n",
      "Requirement already satisfied: gast<=0.4.0,>=0.2.1 in c:\\users\\dhivy\\anaconda3\\lib\\site-packages (from tensorflow==2.9.0) (0.3.3)\n",
      "Requirement already satisfied: wheel<1.0,>=0.23.0 in c:\\users\\dhivy\\anaconda3\\lib\\site-packages (from astunparse>=1.6.0->tensorflow==2.9.0) (0.36.2)\n",
      "Requirement already satisfied: markdown>=2.6.8 in c:\\users\\dhivy\\anaconda3\\lib\\site-packages (from tensorboard<2.10,>=2.9->tensorflow==2.9.0) (3.4.4)\n",
      "Requirement already satisfied: tensorboard-data-server<0.7.0,>=0.6.0 in c:\\users\\dhivy\\anaconda3\\lib\\site-packages (from tensorboard<2.10,>=2.9->tensorflow==2.9.0) (0.6.1)\n",
      "Requirement already satisfied: werkzeug>=1.0.1 in c:\\users\\dhivy\\anaconda3\\lib\\site-packages (from tensorboard<2.10,>=2.9->tensorflow==2.9.0) (1.0.1)\n",
      "Requirement already satisfied: google-auth-oauthlib<0.5,>=0.4.1 in c:\\users\\dhivy\\anaconda3\\lib\\site-packages (from tensorboard<2.10,>=2.9->tensorflow==2.9.0) (0.4.6)\n",
      "Requirement already satisfied: google-auth<3,>=1.6.3 in c:\\users\\dhivy\\anaconda3\\lib\\site-packages (from tensorboard<2.10,>=2.9->tensorflow==2.9.0) (2.23.0)\n",
      "Requirement already satisfied: requests<3,>=2.21.0 in c:\\users\\dhivy\\anaconda3\\lib\\site-packages (from tensorboard<2.10,>=2.9->tensorflow==2.9.0) (2.25.1)\n",
      "Requirement already satisfied: tensorboard-plugin-wit>=1.6.0 in c:\\users\\dhivy\\anaconda3\\lib\\site-packages (from tensorboard<2.10,>=2.9->tensorflow==2.9.0) (1.8.1)\n",
      "Requirement already satisfied: pyasn1-modules>=0.2.1 in c:\\users\\dhivy\\anaconda3\\lib\\site-packages (from google-auth<3,>=1.6.3->tensorboard<2.10,>=2.9->tensorflow==2.9.0) (0.3.0)\n",
      "Requirement already satisfied: rsa<5,>=3.1.4 in c:\\users\\dhivy\\anaconda3\\lib\\site-packages (from google-auth<3,>=1.6.3->tensorboard<2.10,>=2.9->tensorflow==2.9.0) (4.9)\n",
      "Requirement already satisfied: cachetools<6.0,>=2.0.0 in c:\\users\\dhivy\\anaconda3\\lib\\site-packages (from google-auth<3,>=1.6.3->tensorboard<2.10,>=2.9->tensorflow==2.9.0) (4.2.4)\n",
      "Requirement already satisfied: urllib3<2.0 in c:\\users\\dhivy\\anaconda3\\lib\\site-packages (from google-auth<3,>=1.6.3->tensorboard<2.10,>=2.9->tensorflow==2.9.0) (1.26.4)\n",
      "Requirement already satisfied: requests-oauthlib>=0.7.0 in c:\\users\\dhivy\\anaconda3\\lib\\site-packages (from google-auth-oauthlib<0.5,>=0.4.1->tensorboard<2.10,>=2.9->tensorflow==2.9.0) (1.3.1)\n",
      "Requirement already satisfied: importlib-metadata>=4.4 in c:\\users\\dhivy\\anaconda3\\lib\\site-packages (from markdown>=2.6.8->tensorboard<2.10,>=2.9->tensorflow==2.9.0) (6.8.0)\n",
      "Requirement already satisfied: zipp>=0.5 in c:\\users\\dhivy\\anaconda3\\lib\\site-packages (from importlib-metadata>=4.4->markdown>=2.6.8->tensorboard<2.10,>=2.9->tensorflow==2.9.0) (3.4.1)\n",
      "Requirement already satisfied: pyasn1<0.6.0,>=0.4.6 in c:\\users\\dhivy\\anaconda3\\lib\\site-packages (from pyasn1-modules>=0.2.1->google-auth<3,>=1.6.3->tensorboard<2.10,>=2.9->tensorflow==2.9.0) (0.5.0)\n",
      "Requirement already satisfied: certifi>=2017.4.17 in c:\\users\\dhivy\\anaconda3\\lib\\site-packages (from requests<3,>=2.21.0->tensorboard<2.10,>=2.9->tensorflow==2.9.0) (2020.12.5)\n",
      "Requirement already satisfied: chardet<5,>=3.0.2 in c:\\users\\dhivy\\anaconda3\\lib\\site-packages (from requests<3,>=2.21.0->tensorboard<2.10,>=2.9->tensorflow==2.9.0) (4.0.0)\n",
      "Requirement already satisfied: idna<3,>=2.5 in c:\\users\\dhivy\\anaconda3\\lib\\site-packages (from requests<3,>=2.21.0->tensorboard<2.10,>=2.9->tensorflow==2.9.0) (2.10)\n",
      "Requirement already satisfied: oauthlib>=3.0.0 in c:\\users\\dhivy\\anaconda3\\lib\\site-packages (from requests-oauthlib>=0.7.0->google-auth-oauthlib<0.5,>=0.4.1->tensorboard<2.10,>=2.9->tensorflow==2.9.0) (3.2.2)\n",
      "Requirement already satisfied: pyparsing>=2.0.2 in c:\\users\\dhivy\\anaconda3\\lib\\site-packages (from packaging->tensorflow==2.9.0) (2.4.7)\n"
     ]
    }
   ],
   "source": [
    "!pip install tensorflow==2.9.0"
   ]
  },
  {
   "cell_type": "code",
   "execution_count": 6,
   "id": "23d7db60",
   "metadata": {},
   "outputs": [],
   "source": [
    "import os\n",
    "import numpy as np\n",
    "import pickle\n",
    "import cv2\n",
    "import keras\n",
    "import re\n",
    "import matplotlib.pyplot as plt\n",
    "from tensorflow.keras.preprocessing.image import img_to_array\n",
    "from keras.layers import BatchNormalization\n",
    "from sklearn.preprocessing import LabelBinarizer\n",
    "from keras.models import Sequential\n",
    "from keras.layers.convolutional import Conv2D, MaxPooling2D\n",
    "from keras.layers.core import Activation, Flatten, Dropout, Dense\n",
    "from keras.optimizers import Adam, Nadam\n",
    "from keras.preprocessing.image import ImageDataGenerator\n",
    "from sklearn.model_selection import train_test_split\n",
    "from sklearn.preprocessing import LabelBinarizer"
   ]
  },
  {
   "cell_type": "code",
   "execution_count": 7,
   "id": "ac30d3f9",
   "metadata": {},
   "outputs": [],
   "source": [
    "# Set constants\n",
    "EPOCHS = 25\n",
    "INIT_LR = 1e-3\n",
    "BS = 32\n",
    "default_image_size = tuple((256, 256))\n",
    "image_size = 0\n",
    "directory_root = \"C:/Users/dhivy/Downloads/dataset\""
   ]
  },
  {
   "cell_type": "code",
   "execution_count": 8,
   "id": "45246906",
   "metadata": {},
   "outputs": [
    {
     "name": "stdout",
     "output_type": "stream",
     "text": [
      "[INFO] Loading images ...\n",
      "[INFO] Processing PlantVillage ...\n",
      "[INFO] Processing Grape___Black_rot ...\n",
      "[INFO] Processing Grape___Esca_(Black_Measles) ...\n",
      "[INFO] Processing Grape___healthy ...\n",
      "[INFO] Processing Grape___Leaf_blight_(Isariopsis_Leaf_Spot) ...\n",
      "[INFO] Image loading completed\n"
     ]
    }
   ],
   "source": [
    "\n",
    "\n",
    "# Function to convert image to array\n",
    "def convert_image_to_array(image_dir):\n",
    "    try:\n",
    "        image = cv2.imread(image_dir)\n",
    "        if image is not None:\n",
    "            image = cv2.resize(image, default_image_size)\n",
    "            return img_to_array(image)\n",
    "        else:\n",
    "            return np.array([])\n",
    "    except Exception as e:\n",
    "        print(f\"Error: {e}\")\n",
    "        return None\n",
    "\n",
    "# Function to check if file is an image\n",
    "def is_image(filename):\n",
    "    return re.match(r\".*\\.(jpg|jpeg|png|bmp|tiff|JPG)$\", filename, re.IGNORECASE) is not None\n",
    "\n",
    "# Load images and labels\n",
    "image_list, label_list = [], []\n",
    "try:\n",
    "    print(\"[INFO] Loading images ...\")\n",
    "    root_dir = os.listdir(directory_root)\n",
    "\n",
    "    for directory in root_dir:\n",
    "        if directory == \".DS_Store\":\n",
    "            root_dir.remove(directory)\n",
    "\n",
    "    for plant_folder in root_dir:\n",
    "        plant_disease_folder_list = os.listdir(f\"{directory_root}/{plant_folder}\")\n",
    "\n",
    "        for disease_folder in plant_disease_folder_list:\n",
    "            if disease_folder == \".DS_Store\":\n",
    "                plant_disease_folder_list.remove(disease_folder)\n",
    "\n",
    "        for plant_disease_folder in plant_disease_folder_list:\n",
    "            print(f\"[INFO] Processing {plant_disease_folder} ...\")\n",
    "            plant_disease_image_list = os.listdir(f\"{directory_root}/{plant_folder}/{plant_disease_folder}\")\n",
    "\n",
    "            for single_plant_disease_image in plant_disease_image_list:\n",
    "                if is_image(single_plant_disease_image):\n",
    "                    image_directory = os.path.join(directory_root, plant_folder, plant_disease_folder, single_plant_disease_image)\n",
    "                    image_list.append(convert_image_to_array(image_directory))\n",
    "                    label_list.append(plant_disease_folder)\n",
    "\n",
    "    print(\"[INFO] Image loading completed\")  \n",
    "except Exception as e:\n",
    "    print(f\"Error: {e}\")\n",
    "\n"
   ]
  },
  {
   "cell_type": "code",
   "execution_count": 9,
   "id": "735ebe48",
   "metadata": {},
   "outputs": [
    {
     "name": "stdout",
     "output_type": "stream",
     "text": [
      "Found 3251 images belonging to 4 classes.\n",
      "Found 811 images belonging to 4 classes.\n",
      "Epoch 1/20\n",
      "102/102 [==============================] - 31s 299ms/step - loss: 1.3646 - accuracy: 0.3737 - val_loss: 1.2431 - val_accuracy: 0.4464\n",
      "Epoch 2/20\n",
      "102/102 [==============================] - 26s 256ms/step - loss: 1.2221 - accuracy: 0.4322 - val_loss: 1.1899 - val_accuracy: 0.4254\n",
      "Epoch 3/20\n",
      "102/102 [==============================] - 26s 255ms/step - loss: 1.1643 - accuracy: 0.4715 - val_loss: 1.1294 - val_accuracy: 0.5290\n",
      "Epoch 4/20\n",
      "102/102 [==============================] - 26s 251ms/step - loss: 1.1352 - accuracy: 0.4768 - val_loss: 1.1219 - val_accuracy: 0.5450\n",
      "Epoch 5/20\n",
      "102/102 [==============================] - 26s 257ms/step - loss: 1.1068 - accuracy: 0.5008 - val_loss: 1.0600 - val_accuracy: 0.5216\n",
      "Epoch 6/20\n",
      "102/102 [==============================] - 26s 256ms/step - loss: 1.0802 - accuracy: 0.5143 - val_loss: 1.0510 - val_accuracy: 0.5351\n",
      "Epoch 7/20\n",
      "102/102 [==============================] - 26s 252ms/step - loss: 1.0703 - accuracy: 0.5168 - val_loss: 1.0511 - val_accuracy: 0.5043\n",
      "Epoch 8/20\n",
      "102/102 [==============================] - 26s 254ms/step - loss: 1.0493 - accuracy: 0.5186 - val_loss: 1.0287 - val_accuracy: 0.5425\n",
      "Epoch 9/20\n",
      "102/102 [==============================] - 26s 253ms/step - loss: 1.0413 - accuracy: 0.5306 - val_loss: 1.0113 - val_accuracy: 0.5265\n",
      "Epoch 10/20\n",
      "102/102 [==============================] - 26s 250ms/step - loss: 1.0260 - accuracy: 0.5291 - val_loss: 1.0550 - val_accuracy: 0.5117\n",
      "Epoch 11/20\n",
      "102/102 [==============================] - 26s 253ms/step - loss: 1.0086 - accuracy: 0.5386 - val_loss: 1.0520 - val_accuracy: 0.5179\n",
      "Epoch 12/20\n",
      "102/102 [==============================] - 2863s 28s/step - loss: 1.0113 - accuracy: 0.5238 - val_loss: 0.9709 - val_accuracy: 0.5684\n",
      "Epoch 13/20\n",
      "102/102 [==============================] - 28s 274ms/step - loss: 0.9879 - accuracy: 0.5395 - val_loss: 1.0428 - val_accuracy: 0.5290\n",
      "Epoch 14/20\n",
      "102/102 [==============================] - 26s 252ms/step - loss: 0.9958 - accuracy: 0.5408 - val_loss: 0.9713 - val_accuracy: 0.5586\n",
      "Epoch 15/20\n",
      "102/102 [==============================] - 25s 248ms/step - loss: 0.9993 - accuracy: 0.5346 - val_loss: 1.0094 - val_accuracy: 0.5240\n",
      "Epoch 16/20\n",
      "102/102 [==============================] - 26s 251ms/step - loss: 0.9886 - accuracy: 0.5358 - val_loss: 0.9817 - val_accuracy: 0.5771\n",
      "Epoch 17/20\n",
      "102/102 [==============================] - 27s 261ms/step - loss: 0.9797 - accuracy: 0.5524 - val_loss: 0.9830 - val_accuracy: 0.5068\n",
      "Epoch 18/20\n",
      "102/102 [==============================] - 26s 254ms/step - loss: 0.9720 - accuracy: 0.5451 - val_loss: 0.9575 - val_accuracy: 0.5265\n",
      "Epoch 19/20\n",
      "102/102 [==============================] - 26s 253ms/step - loss: 0.9713 - accuracy: 0.5531 - val_loss: 0.9859 - val_accuracy: 0.5179\n",
      "Epoch 20/20\n",
      "102/102 [==============================] - 26s 252ms/step - loss: 0.9749 - accuracy: 0.5589 - val_loss: 0.9563 - val_accuracy: 0.5561\n"
     ]
    }
   ],
   "source": [
    "import os\n",
    "import numpy as np\n",
    "from tensorflow.keras.preprocessing.image import ImageDataGenerator\n",
    "from tensorflow.keras.layers import Dense, Flatten, Dropout\n",
    "from tensorflow.keras.models import Sequential\n",
    "from tensorflow.keras.optimizers import SGD  # Import SGD optimizer\n",
    "\n",
    "# Set directory path\n",
    "data_dir = \"C:/Users/dhivy/Downloads/dataset/datasetgraph\"\n",
    "\n",
    "# Image size\n",
    "image_size = (128, 128)\n",
    "\n",
    "# Batch size\n",
    "batch_size = 32\n",
    "\n",
    "# Create a Sequential model\n",
    "model = Sequential()\n",
    "\n",
    "# Add layers to the model\n",
    "model.add(Flatten(input_shape=(image_size[0], image_size[1], 3)))\n",
    "model.add(Dense(512, activation='relu'))\n",
    "model.add(Dropout(0.5))\n",
    "model.add(Dense(4, activation='softmax'))\n",
    "\n",
    "# Compile the model using SGD optimizer\n",
    "optimizer = SGD(learning_rate=0.001)  # Set learning rate as needed\n",
    "model.compile(optimizer=optimizer, loss='categorical_crossentropy', metrics=['accuracy'])\n",
    "\n",
    "# Data augmentation and splitting for training and testing data\n",
    "train_datagen = ImageDataGenerator(\n",
    "    rescale=1./255,\n",
    "    rotation_range=40,\n",
    "    width_shift_range=0.3,\n",
    "    height_shift_range=0.3,\n",
    "    shear_range=0.3,\n",
    "    zoom_range=0.3,\n",
    "    horizontal_flip=True,\n",
    "    fill_mode='nearest',\n",
    "    validation_split=0.2  # 20% of the data will be used for validation\n",
    ")\n",
    "\n",
    "# Load all data using the generator\n",
    "train_generator = train_datagen.flow_from_directory(\n",
    "    data_dir,\n",
    "    target_size=image_size,\n",
    "    batch_size=batch_size,\n",
    "    class_mode='categorical',\n",
    "    subset='training'  # specify this is for training data\n",
    ")\n",
    "\n",
    "test_generator = train_datagen.flow_from_directory(\n",
    "    data_dir,\n",
    "    target_size=image_size,\n",
    "    batch_size=batch_size,\n",
    "    class_mode='categorical',\n",
    "    subset='validation'  # specify this is for testing data\n",
    ")\n",
    "\n",
    "# Train the model\n",
    "history = model.fit(\n",
    "    train_generator,\n",
    "    epochs=20,\n",
    "    validation_data=test_generator\n",
    ")\n"
   ]
  },
  {
   "cell_type": "code",
   "execution_count": 10,
   "id": "b1f54567",
   "metadata": {},
   "outputs": [
    {
     "data": {
      "image/png": "[encoded data removed]",
      "text/plain": [
       "<Figure size 432x288 with 1 Axes>"
      ]
     },
     "metadata": {
      "needs_background": "light"
     },
     "output_type": "display_data"
    },
    {
     "data": {
      "image/png": "[encoded data removed]",
      "text/plain": [
       "<Figure size 432x288 with 1 Axes>"
      ]
     },
     "metadata": {
      "needs_background": "light"
     },
     "output_type": "display_data"
    }
   ],
   "source": [
    "acc = history.history['accuracy']  \n",
    "val_acc = history.history['val_accuracy']  \n",
    "loss = history.history['loss']\n",
    "val_loss = history.history['val_loss']\n",
    "epochs = range(1, len(acc) + 1)\n",
    "\n",
    "# Plotting training and validation accuracies\n",
    "plt.plot(epochs, acc, 'b', label='Training accuracy')\n",
    "plt.plot(epochs, val_acc, 'r', label='Validation accuracy')\n",
    "plt.title('Training and Validation Accuracy')\n",
    "plt.xlabel('Epochs')\n",
    "plt.ylabel('Accuracy')\n",
    "plt.legend()\n",
    "plt.show()\n",
    "\n",
    "# Plotting training and validation losses\n",
    "plt.plot(epochs, loss, 'b', label='Training loss')\n",
    "plt.plot(epochs, val_loss, 'r', label='Validation loss')\n",
    "plt.title('Training and Validation Loss')\n",
    "plt.xlabel('Epochs')\n",
    "plt.ylabel('Loss')\n",
    "plt.legend()\n",
    "plt.show()"
   ]
  },
  {
   "cell_type": "code",
   "execution_count": 11,
   "id": "6c423d81",
   "metadata": {},
   "outputs": [
    {
     "name": "stdout",
     "output_type": "stream",
     "text": [
      "Epoch 1: Training Accuracy = 0.37373116612434387, Training Loss = 1.3646323680877686\n",
      "Epoch 2: Training Accuracy = 0.4321747124195099, Training Loss = 1.2221051454544067\n",
      "Epoch 3: Training Accuracy = 0.4715472161769867, Training Loss = 1.1642857789993286\n",
      "Epoch 4: Training Accuracy = 0.4767763912677765, Training Loss = 1.135183334350586\n",
      "Epoch 5: Training Accuracy = 0.5007690191268921, Training Loss = 1.106788158416748\n",
      "Epoch 6: Training Accuracy = 0.5143032670021057, Training Loss = 1.080191731452942\n",
      "Epoch 7: Training Accuracy = 0.5167640447616577, Training Loss = 1.070294737815857\n",
      "Epoch 8: Training Accuracy = 0.5186096429824829, Training Loss = 1.049347996711731\n",
      "Epoch 9: Training Accuracy = 0.5306059718132019, Training Loss = 1.041332483291626\n",
      "Epoch 10: Training Accuracy = 0.5290679931640625, Training Loss = 1.0260205268859863\n",
      "Epoch 11: Training Accuracy = 0.5386034846305847, Training Loss = 1.0086476802825928\n",
      "Epoch 12: Training Accuracy = 0.5238388180732727, Training Loss = 1.0113351345062256\n",
      "Epoch 13: Training Accuracy = 0.5395262837409973, Training Loss = 0.9878554344177246\n",
      "Epoch 14: Training Accuracy = 0.5407567024230957, Training Loss = 0.9957754015922546\n",
      "Epoch 15: Training Accuracy = 0.5346047282218933, Training Loss = 0.9992713928222656\n",
      "Epoch 16: Training Accuracy = 0.5358351469039917, Training Loss = 0.9885959625244141\n",
      "Epoch 17: Training Accuracy = 0.5524454116821289, Training Loss = 0.9796806573867798\n",
      "Epoch 18: Training Accuracy = 0.5450630784034729, Training Loss = 0.9720423817634583\n",
      "Epoch 19: Training Accuracy = 0.5530605912208557, Training Loss = 0.9712803363800049\n",
      "Epoch 20: Training Accuracy = 0.5589049458503723, Training Loss = 0.9748744964599609\n"
     ]
    }
   ],
   "source": [
    "for epoch, accuracy, loss_value in zip(range(1, len(acc) + 1), acc, loss):\n",
    "    print(f\"Epoch {epoch}: Training Accuracy = {accuracy}, Training Loss = {loss_value}\")"
   ]
  },
  {
   "cell_type": "code",
   "execution_count": 13,
   "id": "974f2170",
   "metadata": {},
   "outputs": [
    {
     "name": "stdout",
     "output_type": "stream",
     "text": [
      "26/26 [==============================] - 6s 234ms/step - loss: 0.9334 - accuracy: 0.5573\n",
      "Test Accuracy: 0.5573366284370422\n"
     ]
    }
   ],
   "source": [
    "# Evaluate the model on test data\n",
    "test_scores = model.evaluate(test_generator)\n",
    "test_accuracy = test_scores[1]\n",
    "\n",
    "# Print test accuracy\n",
    "print(f\"Test Accuracy: {test_accuracy}\")"
   ]
  },
  {
   "cell_type": "code",
   "execution_count": null,
   "id": "ec884c50",
   "metadata": {},
   "outputs": [],
   "source": []
  }
 ],
 "metadata": {
  "kernelspec": {
   "display_name": "Python 3",
   "language": "python",
   "name": "python3"
  },
  "language_info": {
   "codemirror_mode": {
    "name": "ipython",
    "version": 3
   },
   "file_extension": ".py",
   "mimetype": "text/x-python",
   "name": "python",
   "nbconvert_exporter": "python",
   "pygments_lexer": "ipython3",
   "version": "3.8.8"
  }
 },
 "nbformat": 4,
 "nbformat_minor": 5
}
